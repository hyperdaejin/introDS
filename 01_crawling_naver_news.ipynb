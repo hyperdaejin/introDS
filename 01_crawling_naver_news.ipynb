{
 "cells": [
  {
   "cell_type": "markdown",
   "metadata": {
    "colab_type": "text",
    "id": "view-in-github"
   },
   "source": [
    "<a href=\"https://colab.research.google.com/github/SJinLee/DS/blob/main/01_crawling_naver_news.ipynb\" target=\"_parent\"><img src=\"https://colab.research.google.com/assets/colab-badge.svg\" alt=\"Open In Colab\"/></a>"
   ]
  },
  {
   "cell_type": "markdown",
   "metadata": {
    "id": "cxKhjD0B8OUN"
   },
   "source": [
    "# 워드 클라우드 그려보기\n",
    "\n",
    "목차\n",
    "\n",
    "1. colab notebook\n",
    "2. 설치\n",
    "3. 네이버 뉴스 크롤링\n",
    "4. pandas, DataFrame\n",
    "5. 워드클라우드\n",
    "6. 형태소 분석\n",
    "7. 명사들의 워드클라우드\n",
    "8. 분야별 워드클라우드"
   ]
  },
  {
   "cell_type": "markdown",
   "metadata": {
    "id": "f5IHBxkz-QIa"
   },
   "source": [
    "### 1. colab notebook\n",
    "\n",
    "* markdown 형식으로 문서작성을 할 수 있다.\n",
    "* python 프로그램을 실행할 수 있다.\n",
    "* 셀(cell)들로 이루어져 있다. 코드셀과 텍스트셀이 있다.\n",
    "* 셀에 입력된 프로그램을 실행하려면 Shift+Enter 를 하면 된다."
   ]
  },
  {
   "cell_type": "markdown",
   "metadata": {
    "id": "SdFQN14w-pNp"
   },
   "source": [
    "### 2. 설치\n",
    "\n",
    "* 카이"
   ]
  },
  {
   "cell_type": "code",
   "execution_count": null,
   "metadata": {
    "id": "3ctS_I8j1MGB"
   },
   "outputs": [],
   "source": [
    "!git clone https://github.com/kakao/khaiii.git"
   ]
  },
  {
   "cell_type": "code",
   "execution_count": null,
   "metadata": {
    "id": "its3x6cU15OY"
   },
   "outputs": [],
   "source": [
    "!mkdir khaiii/build"
   ]
  },
  {
   "cell_type": "code",
   "execution_count": null,
   "metadata": {
    "id": "-x4OfpBq2CWV"
   },
   "outputs": [],
   "source": [
    "!cd khaiii/build; cmake .."
   ]
  },
  {
   "cell_type": "code",
   "execution_count": null,
   "metadata": {
    "id": "_gmSXfzW2DMa"
   },
   "outputs": [],
   "source": [
    "!cd khaiii/build; make all"
   ]
  },
  {
   "cell_type": "code",
   "execution_count": null,
   "metadata": {
    "id": "7bCi4kgc2il6"
   },
   "outputs": [],
   "source": [
    "!cd khaiii/build; make resource"
   ]
  },
  {
   "cell_type": "code",
   "execution_count": null,
   "metadata": {
    "id": "uUZdQOUR221h"
   },
   "outputs": [],
   "source": [
    "!cd khaiii/build; make package_python"
   ]
  },
  {
   "cell_type": "code",
   "execution_count": null,
   "metadata": {
    "id": "kRWgGKDz26CB"
   },
   "outputs": [],
   "source": [
    "!cd khaiii/build/package_python; pip install ."
   ]
  },
  {
   "cell_type": "markdown",
   "metadata": {
    "id": "Cv-Lb6EXAOyN"
   },
   "source": [
    "* 나눔폰트: https://hangeul.naver.com/2017/nanum"
   ]
  },
  {
   "cell_type": "code",
   "execution_count": null,
   "metadata": {
    "id": "xlD-zAbt03Ft"
   },
   "outputs": [],
   "source": [
    "!apt install fonts-nanum"
   ]
  },
  {
   "cell_type": "markdown",
   "metadata": {
    "id": "_iXisAGVjz2L"
   },
   "source": [
    "### 3. 네이버 뉴스 크롤링"
   ]
  },
  {
   "cell_type": "code",
   "execution_count": 1,
   "metadata": {
    "id": "EaUYAjtyjgD0"
   },
   "outputs": [],
   "source": [
    "from bs4 import BeautifulSoup\n",
    "from urllib.request import urlopen\n",
    "from urllib.request import Request\n",
    "from urllib.error import HTTPError\n",
    "import pandas as pd\n",
    "\n",
    "def read_url(url):\n",
    "    headers = {'User-Agent':' Mozilla/5.0 (Windows NT 6.1; WOW64; rv:12.0) Gecko/20100101 Firefox/12.0'}\n",
    "    req = Request(url=url,headers=headers)\n",
    "    try:\n",
    "        handler = urlopen(req)\n",
    "    except HTTPError as e:\n",
    "        content = e.read()\n",
    "    return handler.read()"
   ]
  },
  {
   "cell_type": "code",
   "execution_count": 2,
   "metadata": {
    "id": "mHcA8N1tjocP"
   },
   "outputs": [],
   "source": [
    "base_url = \"https://news.naver.com\""
   ]
  },
  {
   "cell_type": "markdown",
   "metadata": {
    "id": "-MIlcHMCryGu"
   },
   "source": [
    "[네이버 뉴스 소스 보기](https://drive.google.com/file/d/1y2JNxaSDeeUpHDJveg1Y3BDEgSGtPnRh/view?usp=sharing) : 네이버 뉴스 화면에서 F12를 누른다."
   ]
  },
  {
   "cell_type": "code",
   "execution_count": 3,
   "metadata": {
    "id": "8lSdNmMsjweB"
   },
   "outputs": [],
   "source": [
    "data = read_url(base_url)"
   ]
  },
  {
   "cell_type": "code",
   "execution_count": null,
   "metadata": {},
   "outputs": [],
   "source": [
    "data"
   ]
  },
  {
   "cell_type": "code",
   "execution_count": 5,
   "metadata": {
    "id": "w_WQVQC2kBJG"
   },
   "outputs": [],
   "source": [
    "soup = BeautifulSoup(data, \"html.parser\")\n",
    "total_data = soup.find_all(attrs={'class': 'main_component droppable'})"
   ]
  },
  {
   "cell_type": "code",
   "execution_count": null,
   "metadata": {
    "id": "IpD8-Y9_wIia"
   },
   "outputs": [],
   "source": [
    "total_data[1]"
   ]
  },
  {
   "cell_type": "code",
   "execution_count": 7,
   "metadata": {
    "id": "DPQDizGiwFdc"
   },
   "outputs": [],
   "source": [
    "category = [x.find(attrs={'class': 'tit_sec'}) for x in total_data]\n",
    "category = [x.find('a').string if x is not None else '' for x in category]"
   ]
  },
  {
   "cell_type": "code",
   "execution_count": 8,
   "metadata": {
    "id": "2uaChESxwHU9"
   },
   "outputs": [],
   "source": [
    "data_str = []\n",
    "for cat,data in zip(category[1:],total_data[1:]):\n",
    "    news_list2 = data.find_all('li')\n",
    "    news_list = [x.find('a') for x in news_list2]\n",
    "    titles = [x.find('strong').text for x in news_list]\n",
    "    news_url = [x.attrs['href'] for x in news_list]\n",
    "    soups = [BeautifulSoup(read_url(x), \"html.parser\") for x in news_url]\n",
    "    article_bodies = [x.find(attrs={'id': 'articleBodyContents'}) for x in soups]\n",
    "    for ab in article_bodies:\n",
    "      ab.find('script').decompose()\n",
    "    for i in range(len(news_list)):\n",
    "        data_str.append([cat,titles[i],news_url[i],str(article_bodies[i].text)])\n"
   ]
  },
  {
   "cell_type": "markdown",
   "metadata": {
    "id": "MM3EcXsNAijb"
   },
   "source": [
    "### 4. pandas, DataFrame"
   ]
  },
  {
   "cell_type": "code",
   "execution_count": 34,
   "metadata": {
    "id": "Suet0MPNwjLm"
   },
   "outputs": [],
   "source": [
    "columns = ['category','title','news_url','article_body']\n",
    "df = pd.DataFrame(data_str,range(len(data_str)),columns)\n",
    "df.to_csv('naver-news.csv',index=False)"
   ]
  },
  {
   "cell_type": "code",
   "execution_count": null,
   "metadata": {
    "id": "lFLI-0sww__L"
   },
   "outputs": [],
   "source": [
    "df"
   ]
  },
  {
   "cell_type": "markdown",
   "metadata": {
    "id": "GJUlBMuvAqaP"
   },
   "source": [
    "### 5. 워드클라우드(wordcloud)"
   ]
  },
  {
   "cell_type": "code",
   "execution_count": 12,
   "metadata": {
    "id": "9TXo6Dbnyj-F"
   },
   "outputs": [],
   "source": []
  },
  {
   "cell_type": "code",
   "execution_count": null,
   "metadata": {
    "id": "Vei7mde-zIdr"
   },
   "outputs": [],
   "source": []
  },
  {
   "cell_type": "code",
   "execution_count": 14,
   "metadata": {
    "id": "raFtKz-czJSo"
   },
   "outputs": [],
   "source": []
  },
  {
   "cell_type": "code",
   "execution_count": null,
   "metadata": {
    "colab": {
     "base_uri": "https://localhost:8080/",
     "height": 310
    },
    "id": "2_Ghx0aI1Ss8",
    "outputId": "aa8a17b0-45b0-4c4c-e7b5-da57fa3a9898"
   },
   "outputs": [],
   "source": []
  },
  {
   "cell_type": "markdown",
   "metadata": {
    "id": "gOtVLhqeBIBR"
   },
   "source": [
    "### 6. 형태소 분석"
   ]
  },
  {
   "cell_type": "code",
   "execution_count": null,
   "metadata": {
    "colab": {
     "base_uri": "https://localhost:8080/",
     "height": 51
    },
    "id": "WQ_fIl0w3vdS",
    "outputId": "88379730-c890-431e-ab6e-b144bd279155"
   },
   "outputs": [],
   "source": [
    "from khaiii import KhaiiiApi\n",
    "api = KhaiiiApi()\n",
    "for word in api.analyze('안녕, 세상.'):\n",
    "    print([[x.tag,x.lex] for x in word.morphs])"
   ]
  },
  {
   "cell_type": "code",
   "execution_count": null,
   "metadata": {
    "id": "mOPmL7mC5btx"
   },
   "outputs": [],
   "source": [
    "noun = []\n",
    "for token in api.analyze(text):\n",
    "  for x in token.morphs:\n",
    "    if x.tag == 'NNG':\n",
    "      noun.append(x.lex)"
   ]
  },
  {
   "cell_type": "markdown",
   "metadata": {
    "id": "kojlAuCABXlh"
   },
   "source": [
    "### 7. 명사들의 워드클라우드"
   ]
  },
  {
   "cell_type": "code",
   "execution_count": 18,
   "metadata": {
    "id": "q8Ft2VFH5fe-"
   },
   "outputs": [],
   "source": []
  },
  {
   "cell_type": "code",
   "execution_count": null,
   "metadata": {
    "colab": {
     "base_uri": "https://localhost:8080/",
     "height": 310
    },
    "id": "2u4G0VXx5k-P",
    "outputId": "5b4a03b3-fef3-4a06-dbbd-1c30cca9eb5e"
   },
   "outputs": [],
   "source": []
  },
  {
   "cell_type": "markdown",
   "metadata": {
    "id": "X7VSIh_ABfnj"
   },
   "source": [
    "### 8. 분야별 워드클라우드\n"
   ]
  },
  {
   "cell_type": "code",
   "execution_count": null,
   "metadata": {
    "colab": {
     "base_uri": "https://localhost:8080/",
     "height": 34
    },
    "id": "IEN34Z6c7DU1",
    "outputId": "ebc43214-eb9b-4848-997e-424524799e38"
   },
   "outputs": [],
   "source": [
    "df.columns"
   ]
  },
  {
   "cell_type": "code",
   "execution_count": null,
   "metadata": {
    "colab": {
     "base_uri": "https://localhost:8080/",
     "height": 34
    },
    "id": "o5X1CkHq7LpQ",
    "outputId": "4fc189bd-9a02-4c07-9cfb-a1c310ec52e9"
   },
   "outputs": [],
   "source": [
    "df['category'].unique()"
   ]
  },
  {
   "cell_type": "markdown",
   "metadata": {
    "id": "aP1OLLM4BsaP"
   },
   "source": [
    "* 정치"
   ]
  },
  {
   "cell_type": "code",
   "execution_count": 22,
   "metadata": {
    "id": "NKODKJyx7Rfu"
   },
   "outputs": [],
   "source": []
  },
  {
   "cell_type": "code",
   "execution_count": 23,
   "metadata": {
    "id": "yttxUec07gyp"
   },
   "outputs": [],
   "source": []
  },
  {
   "cell_type": "code",
   "execution_count": 24,
   "metadata": {
    "id": "rkdp_Vkn7kDx"
   },
   "outputs": [],
   "source": []
  },
  {
   "cell_type": "code",
   "execution_count": null,
   "metadata": {
    "colab": {
     "base_uri": "https://localhost:8080/",
     "height": 310
    },
    "id": "l-cv0ghl7ltD",
    "outputId": "41f2912f-4200-4405-f4ab-37537576b0e9"
   },
   "outputs": [],
   "source": []
  },
  {
   "cell_type": "markdown",
   "metadata": {
    "id": "71yVxkdJBvGd"
   },
   "source": [
    "* 경제"
   ]
  },
  {
   "cell_type": "markdown",
   "metadata": {
    "id": "DXX-W17B8GUU"
   },
   "source": [
    "**연습문제**"
   ]
  },
  {
   "cell_type": "markdown",
   "metadata": {
    "id": "INkw6g6BB5hl"
   },
   "source": [
    "* 사회, 생활/문화, 세계, IT/과학 분야의 워드클라우드를 그려보자."
   ]
  },
  {
   "cell_type": "markdown",
   "metadata": {
    "id": "Z58bQqJ2CFzx"
   },
   "source": [
    "**참고**\n",
    "\n",
    "1. Bag of Words\n",
    "2. tdidf\n",
    "3. 감성분석\n",
    "4. 문서요약\n",
    "5. 자연어처리\n",
    "6. 머신러닝\n",
    "7. 인공지능\n",
    "8. 딥러닝\n"
   ]
  },
  {
   "cell_type": "markdown",
   "metadata": {},
   "source": [
    "### 코드모음"
   ]
  },
  {
   "cell_type": "markdown",
   "metadata": {},
   "source": [
    "5. 워드클라우드\n",
    "\n",
    "<code>text = ' '.join(df['article_body'])\n",
    "from wordcloud import WordCloud\n",
    "import matplotlib.pyplot as plt\n",
    "font_path = '/usr/share/fonts/truetype/nanum/NanumGothic.ttf'\n",
    "wordcloud = WordCloud(font_path=font_path,background_color='white').generate(text)\n",
    "plt.figure(figsize=(10,8)) #이미지 사이즈 지정\n",
    "plt.imshow(wordcloud, interpolation='lanczos') #이미지의 부드럽기 정도\n",
    "plt.axis('off') #x y 축 숫자 제거\n",
    "plt.show() \n",
    "</code>"
   ]
  },
  {
   "cell_type": "markdown",
   "metadata": {},
   "source": [
    "7. 명사들의 워드클라우드\n",
    "\n",
    "<code>wordcloud = WordCloud(font_path=font_path,background_color='white').generate(' '.join(noun))\n",
    "plt.figure(figsize=(10,8)) #이미지 사이즈 지정\n",
    "plt.imshow(wordcloud, interpolation='lanczos') #이미지의 부드럽기 정도\n",
    "plt.axis('off') #x y 축 숫자 제거\n",
    "plt.show() \n",
    "</code>"
   ]
  },
  {
   "cell_type": "markdown",
   "metadata": {},
   "source": [
    "8. 분야별 워드클라우드\n",
    "\n",
    "<code>index = df['category']=='정치'\n",
    "df1 = df.loc[index]\n",
    "text = ' '.join(df1['article_body'])\n",
    "noun = []\n",
    "for token in api.analyze(text):\n",
    "  for x in token.morphs:\n",
    "    if x.tag == 'NNG':\n",
    "      noun.append(x.lex)\n",
    "wordcloud = WordCloud(font_path='NanumGothic.ttf',background_color='white').generate(' '.join(noun))\n",
    "plt.figure(figsize=(10,8)) #이미지 사이즈 지정\n",
    "plt.imshow(wordcloud, interpolation='lanczos') #이미지의 부드럽기 정도\n",
    "plt.axis('off') #x y 축 숫자 제거\n",
    "plt.show() \n",
    "</code>"
   ]
  },
  {
   "cell_type": "code",
   "execution_count": null,
   "metadata": {},
   "outputs": [],
   "source": []
  }
 ],
 "metadata": {
  "colab": {
   "authorship_tag": "ABX9TyNe/hpBZEw/AkosSL4OaqXR",
   "include_colab_link": true,
   "name": "01.crawling-naver-news.ipynb",
   "provenance": []
  },
  "kernelspec": {
   "display_name": "Python 3",
   "language": "python",
   "name": "python3"
  },
  "language_info": {
   "codemirror_mode": {
    "name": "ipython",
    "version": 3
   },
   "file_extension": ".py",
   "mimetype": "text/x-python",
   "name": "python",
   "nbconvert_exporter": "python",
   "pygments_lexer": "ipython3",
   "version": "3.6.9"
  }
 },
 "nbformat": 4,
 "nbformat_minor": 1
}
